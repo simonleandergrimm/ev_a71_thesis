{
 "cells": [
  {
   "cell_type": "markdown",
   "id": "difficult-madison",
   "metadata": {},
   "source": [
    "## Analyzing EV_A71's mugration model"
   ]
  },
  {
   "cell_type": "markdown",
   "id": "successful-jewelry",
   "metadata": {},
   "source": [
    "Viet Nam is not showing up in the model. This is probably due to its altered name.\n",
    "\n",
    "I will fix this tomorrow as it seems like a minor bug."
   ]
  },
  {
   "cell_type": "code",
   "execution_count": null,
   "id": "important-questionnaire",
   "metadata": {},
   "outputs": [],
   "source": [
    "import pandas as pd"
   ]
  },
  {
   "cell_type": "code",
   "execution_count": null,
   "id": "earlier-nudist",
   "metadata": {},
   "outputs": [],
   "source": [
    "mugration_model = open(\"subsamples/ev_a71/vp1/results/traitscountry.mugration_model.txt\")\n"
   ]
  },
  {
   "cell_type": "code",
   "execution_count": null,
   "id": "rubber-mileage",
   "metadata": {},
   "outputs": [],
   "source": [
    "with open('subsamples/ev_a71/vp1/results/traitscountry.mugration_model.txt', 'r') as f:\n",
    "    file_contents = f.readlines()\n",
    "    f.close()"
   ]
  },
  {
   "cell_type": "code",
   "execution_count": null,
   "id": "nearby-difficulty",
   "metadata": {},
   "outputs": [],
   "source": [
    "legend_countries = (file_contents[1:44])\n",
    "\n",
    "country_legend = {}\n",
    "\n",
    "for element in legend_countries:\n",
    "    new_element = element.replace (\"\\t\", \"\").replace(\"\\n\",\"\")\n",
    "    new_element = new_element.split(':')\n",
    "    key, value = new_element[0], new_element[1]\n",
    "    country_legend[key] = value\n",
    "\n",
    "print(country_legend)"
   ]
  },
  {
   "cell_type": "code",
   "execution_count": null,
   "id": "gorgeous-badge",
   "metadata": {},
   "outputs": [],
   "source": [
    "equilibrium_list = (file_contents[49:92])\n",
    "equilibrium_frequencies = {}\n",
    "\n",
    "\n",
    "\n",
    "for element in equilibrium_list:\n",
    "    new_element = element.replace (\"\\n\", \"\").replace(\" \", \"\")\n",
    "    new_element = new_element.split(':')\n",
    "    key, value = new_element[0], new_element[1]\n",
    "    equilibrium_frequencies[key] = value\n",
    "    \n"
   ]
  },
  {
   "cell_type": "code",
   "execution_count": null,
   "id": "understanding-finder",
   "metadata": {
    "scrolled": true
   },
   "outputs": [],
   "source": [
    "dataframe = pd.read_csv(\"subsamples/ev_a71/vp1/results/traitscountry.mugration_model.txt\", skiprows=94, sep='\\t')\n",
    "print(dataframe)"
   ]
  },
  {
   "cell_type": "code",
   "execution_count": null,
   "id": "confused-costa",
   "metadata": {
    "scrolled": true
   },
   "outputs": [],
   "source": [
    "symmetrized_rates = ((dataframe.iloc[0:42]))\n",
    "symmetrized_rates = symmetrized_rates.set_index('Unnamed: 0')\n",
    "symmetrized_rates = symmetrized_rates.astype(float)\n",
    "\n",
    "\n",
    "\n",
    "actual_rates = (dataframe.iloc[45:])\n",
    "actual_rates = actual_rates.set_index('Unnamed: 0')\n",
    "actual_rates = actual_rates.astype(float)"
   ]
  },
  {
   "cell_type": "code",
   "execution_count": null,
   "id": "confused-metadata",
   "metadata": {
    "scrolled": true
   },
   "outputs": [],
   "source": [
    "print(actual_rates)"
   ]
  },
  {
   "cell_type": "code",
   "execution_count": null,
   "id": "prompt-glucose",
   "metadata": {},
   "outputs": [],
   "source": [
    "print(symmetrized_rates)"
   ]
  },
  {
   "cell_type": "code",
   "execution_count": null,
   "id": "guilty-touch",
   "metadata": {},
   "outputs": [],
   "source": [
    "labels = country_legend.values()\n",
    "\n",
    "\n",
    "import seaborn as sns\n",
    "import matplotlib.pyplot as plt\n",
    "plt.figure(figsize=(18,15))\n",
    "ax = sns.heatmap(actual_rates, xticklabels=labels, yticklabels=labels)\n",
    "plt.tick_params(axis='x', labelbottom = False, bottom=False, top = True, labeltop=True, rotation=90)\n",
    "\n",
    "\n"
   ]
  },
  {
   "cell_type": "code",
   "execution_count": null,
   "id": "composed-burning",
   "metadata": {
    "scrolled": true
   },
   "outputs": [],
   "source": [
    "\n",
    "plt.figure(figsize=(18,15))\n",
    "ax = sns.heatmap(symmetrized_rates, xticklabels=labels, yticklabels=labels)\n",
    "plt.tick_params(axis='x', labelbottom = False, bottom=False, top = True, labeltop=True, rotation=90)\n",
    "\n",
    "\n"
   ]
  },
  {
   "cell_type": "markdown",
   "id": "transsexual-stress",
   "metadata": {},
   "source": [
    "# Viet Nam is missing - Therefore plotting the same data, using my local vp1 build\n",
    "\n",
    "Viet Nam is missing from the vp1 build used above. This is due to me trying to clean country names, which leads to an unresolved issue where Viet Nam is not being displayed on auspice and not being inferred by augur traits.\n",
    "\n",
    "I'm trying to resolve this atm, but for now will display the same using an older build."
   ]
  },
  {
   "cell_type": "code",
   "execution_count": null,
   "id": "interstate-labor",
   "metadata": {},
   "outputs": [],
   "source": [
    "import pandas as pd\n",
    "\n",
    "with open('subsamples/ev_a71/vp1_local/results/traitscountry.mugration_model.txt', 'r') as f:\n",
    "    file_contents = f.readlines()\n",
    "    f.close()\n",
    "    \n",
    "print(file_contents)"
   ]
  },
  {
   "cell_type": "code",
   "execution_count": null,
   "id": "strategic-dress",
   "metadata": {
    "scrolled": true
   },
   "outputs": [],
   "source": [
    "legend_countries = (file_contents[2:46])\n",
    "\n",
    "country_legend = {}\n",
    "\n",
    "for element in legend_countries:\n",
    "    new_element = element.replace (\"\\t\", \"\").replace(\"\\n\",\"\")\n",
    "    new_element = new_element.split(':')\n",
    "    key, value = new_element[0], new_element[1]\n",
    "    country_legend[key] = value\n",
    "\n",
    "print(country_legend)"
   ]
  },
  {
   "cell_type": "code",
   "execution_count": null,
   "id": "posted-reach",
   "metadata": {},
   "outputs": [],
   "source": [
    "equilibrium_list = (file_contents[51:94])\n",
    "equilibrium_frequencies = {}\n",
    "\n",
    "\n",
    "\n",
    "for element in equilibrium_list:\n",
    "    new_element = element.replace (\"\\n\", \"\").replace(\" \", \"\")\n",
    "    new_element = new_element.split(':')\n",
    "    key, value = new_element[0], new_element[1]\n",
    "    equilibrium_frequencies[key] = value\n",
    "    \n",
    "\n"
   ]
  },
  {
   "cell_type": "code",
   "execution_count": null,
   "id": "strong-surrey",
   "metadata": {
    "scrolled": true
   },
   "outputs": [],
   "source": [
    "dataframe = pd.read_csv(\"subsamples/ev_a71/vp1_local/results/traitscountry.mugration_model.txt\", skiprows=97, sep='\\t')\n",
    "\n",
    "print(dataframe)"
   ]
  },
  {
   "cell_type": "code",
   "execution_count": null,
   "id": "confused-costa",
   "metadata": {
    "scrolled": true
   },
   "outputs": [],
   "source": [
    "symmetrized_rates = ((dataframe.iloc[0:44]))\n",
    "symmetrized_rates = symmetrized_rates.set_index('Unnamed: 0')\n",
    "symmetrized_rates = symmetrized_rates.astype(float)\n",
    "\n",
    "print(symmetrized_rates)\n",
    "\n"
   ]
  },
  {
   "cell_type": "code",
   "execution_count": null,
   "id": "confused-metadata",
   "metadata": {
    "scrolled": true
   },
   "outputs": [],
   "source": [
    "actual_rates = (dataframe.iloc[46:])\n",
    "actual_rates = actual_rates.set_index('Unnamed: 0')\n",
    "actual_rates = actual_rates.astype(float)\n",
    "print(actual_rates)"
   ]
  },
  {
   "cell_type": "code",
   "execution_count": null,
   "id": "honey-least",
   "metadata": {
    "scrolled": false
   },
   "outputs": [],
   "source": [
    "labels = country_legend.values()\n",
    "\n",
    "\n",
    "import seaborn as sns\n",
    "import matplotlib.pyplot as plt\n",
    "plt.figure(figsize=(18,15))\n",
    "ax = sns.heatmap(actual_rates, xticklabels=labels, yticklabels=labels)\n",
    "plt.tick_params(axis='x', labelbottom = False, bottom=False, top = True, labeltop=True, rotation=90)\n",
    "\n",
    "\n"
   ]
  },
  {
   "cell_type": "code",
   "execution_count": null,
   "id": "guilty-touch",
   "metadata": {
    "scrolled": true
   },
   "outputs": [],
   "source": [
    "\n",
    "plt.figure(figsize=(18,15))\n",
    "ax = sns.heatmap(symmetrized_rates, xticklabels=labels, yticklabels=labels)\n",
    "plt.tick_params(axis='x', labelbottom = False, bottom=False, top = True, labeltop=True, rotation=90)\n",
    "\n",
    "\n"
   ]
  },
  {
   "cell_type": "code",
   "execution_count": null,
   "id": "numeric-zealand",
   "metadata": {},
   "outputs": [],
   "source": [
    "plt.hist(l)"
   ]
  }
 ],
 "metadata": {
  "kernelspec": {
   "display_name": "Python 3",
   "language": "python",
   "name": "python3"
  },
  "language_info": {
   "codemirror_mode": {
    "name": "ipython",
    "version": 3
   },
   "file_extension": ".py",
   "mimetype": "text/x-python",
   "name": "python",
   "nbconvert_exporter": "python",
   "pygments_lexer": "ipython3",
   "version": "3.8.8"
  }
 },
 "nbformat": 4,
 "nbformat_minor": 5
}
