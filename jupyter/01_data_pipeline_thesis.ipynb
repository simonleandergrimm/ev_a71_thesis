{
 "cells": [
  {
   "cell_type": "markdown",
   "id": "f9e34a56",
   "metadata": {},
   "source": [
    "# Automatic data pull using grep\n",
    "\n",
    "Using the command provided by viprbrc support I only receive around 4793 sequences. In my GitHub build I mention the manual download of around 10'000 sequences. This discrepancy must be clarified.\n",
    "\n",
    "I use the following code to download data:\n",
    "\n",
    "```\n",
    "Data using curl command % curl -k \"https://www.viprbrc.org/brc/api/sequence?datatype=genome&family=Picornaviridae&species=Enterovirus%20A&virustype=Enterovirus%20A71&metadata=strainname,segment,date,host,date,country,subtype&output=fasta\" -o curl_download.fasta\n",
    "```\n"
   ]
  },
  {
   "cell_type": "markdown",
   "id": "4efd108f",
   "metadata": {},
   "source": [
    "# Investigating differences\n",
    "\n",
    "One weird thing is that the automated download has very little data after 2013. This seems like a bug on their side—prettyyyy annoying.\n",
    "\n",
    "I got in touch with them an as per th 5th of November they are working on a fix"
   ]
  },
  {
   "cell_type": "markdown",
   "id": "979aadbe",
   "metadata": {},
   "source": [
    "# Data build and exclusion\n",
    "\n",
    "Currently running a build with out excluding files. This build can be found here: /Users/simongrimm/Documents/universitaet_basel/thesis/nextstrain/data/thesis_writing/ignore_these_builds"
   ]
  },
  {
   "cell_type": "markdown",
   "id": "f9446c11",
   "metadata": {},
   "source": [
    "# Data analysis"
   ]
  },
  {
   "cell_type": "code",
   "execution_count": 8,
   "id": "78fd92f8",
   "metadata": {},
   "outputs": [],
   "source": [
    "import pandas as pd\n",
    "\n",
    "metadata = pd.read_csv(\"enterovirus_a71_github/ev_a71/vp1/results/cleaned_metadata.tsv\", sep='\\t')\n",
    "\n"
   ]
  },
  {
   "cell_type": "code",
   "execution_count": 11,
   "id": "cccc2f2f",
   "metadata": {},
   "outputs": [
    {
     "data": {
      "text/plain": [
       "China                       4784\n",
       "Viet Nam                    1006\n",
       "Taiwan                       887\n",
       "Na                           537\n",
       "Japan                        463\n",
       "Malaysia                     282\n",
       "Thailand                     270\n",
       "Germany                      253\n",
       "Netherlands                  237\n",
       "Spain                        209\n",
       "France                       123\n",
       "Russia                        88\n",
       "Cambodia                      77\n",
       "India                         48\n",
       "Singapore                     41\n",
       "Brunei                        37\n",
       "Finland                       32\n",
       "Australia                     25\n",
       "Hong Kong                     22\n",
       "Hungary                       16\n",
       "South Korea                   14\n",
       "United Kingdom                14\n",
       "Usa                           14\n",
       "Canada                        14\n",
       "Philippines                   14\n",
       "Denmark                       11\n",
       "Austria                       11\n",
       "Poland                        10\n",
       "Indonesia                      7\n",
       "Switzerland                    7\n",
       "Greece                         6\n",
       "Cameroon                       6\n",
       "Unknown                        6\n",
       "Tunisia                        5\n",
       "Peru                           4\n",
       "Madagascar                     4\n",
       "Croatia                        4\n",
       "Norway                         4\n",
       "Iceland                        4\n",
       "Senegal                        3\n",
       "Central African Republic       3\n",
       "Guinea                         2\n",
       "Pakistan                       2\n",
       "Georgia                        2\n",
       "Latvia                         2\n",
       "Niger                          2\n",
       "Italy                          2\n",
       "Mauritania                     2\n",
       "Laos                           1\n",
       "Algeria                        1\n",
       "Kuwait                         1\n",
       "Kyrgyzstan                     1\n",
       "Bulgaria                       1\n",
       "Egypt                          1\n",
       "Kazakhstan                     1\n",
       "Azerbaijan                     1\n",
       "Ukraine                        1\n",
       "Andorra                        1\n",
       "Name: country, dtype: int64"
      ]
     },
     "execution_count": 11,
     "metadata": {},
     "output_type": "execute_result"
    }
   ],
   "source": [
    "metadata[\"country\"].value_counts()"
   ]
  }
 ],
 "metadata": {
  "kernelspec": {
   "display_name": "Python 3",
   "language": "python",
   "name": "python3"
  },
  "language_info": {
   "codemirror_mode": {
    "name": "ipython",
    "version": 3
   },
   "file_extension": ".py",
   "mimetype": "text/x-python",
   "name": "python",
   "nbconvert_exporter": "python",
   "pygments_lexer": "ipython3",
   "version": "3.8.8"
  }
 },
 "nbformat": 4,
 "nbformat_minor": 5
}
