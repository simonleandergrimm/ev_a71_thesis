{
 "cells": [
  {
   "cell_type": "code",
   "execution_count": 27,
   "id": "57b3c3b9",
   "metadata": {},
   "outputs": [],
   "source": [
    "import pandas as pd"
   ]
  },
  {
   "cell_type": "code",
   "execution_count": 28,
   "id": "e85fcfb5",
   "metadata": {},
   "outputs": [],
   "source": [
    "\n",
    "vp1_data = pd.read_csv(\"builds/original_enterovirus_a71/ev_a71/vp1/results/cleaned_metadata.tsv\", sep='\\t')\n",
    "\n",
    "\n",
    "geo_regions = pd.read_csv(\"scripts/geo_regions.tsv\",sep='\\t')\n",
    "\n",
    "country_counts = vp1_data['country'].value_counts()"
   ]
  },
  {
   "cell_type": "code",
   "execution_count": 29,
   "id": "f627b7c1",
   "metadata": {},
   "outputs": [],
   "source": [
    "vp1_data['country'] = vp1_data['country'].str.replace (' ', '_')\n",
    "vp1_data['country'] = vp1_data['country'].str.lower()\n",
    "vp1_data['country'] = vp1_data['country'].str.replace ('viet_nam', 'vietnam')\n",
    "vp1_data['country'] = vp1_data['country'].str.replace ('georgia_country', 'georgia')"
   ]
  },
  {
   "cell_type": "code",
   "execution_count": 30,
   "id": "dc83af7b",
   "metadata": {},
   "outputs": [],
   "source": [
    "vp1_data_regions = pd.merge(vp1_data, geo_regions, on=\"country\", how=\"left\")"
   ]
  },
  {
   "cell_type": "code",
   "execution_count": 31,
   "id": "10896229",
   "metadata": {},
   "outputs": [
    {
     "name": "stdout",
     "output_type": "stream",
     "text": [
      "na         537\n",
      "unknown      6\n",
      "georgia      2\n",
      "andorra      1\n",
      "Name: country, dtype: int64\n"
     ]
    }
   ],
   "source": [
    "\n",
    "import math\n",
    "print(vp1_data_regions[pd.isnull(vp1_data_regions['region'])]['country'].value_counts())"
   ]
  },
  {
   "cell_type": "code",
   "execution_count": 32,
   "id": "0a71c52f",
   "metadata": {},
   "outputs": [
    {
     "data": {
      "text/plain": [
       "9626"
      ]
     },
     "execution_count": 32,
     "metadata": {},
     "output_type": "execute_result"
    }
   ],
   "source": [
    "len(vp1_data.index)"
   ]
  },
  {
   "cell_type": "code",
   "execution_count": null,
   "id": "69da5268",
   "metadata": {},
   "outputs": [],
   "source": []
  },
  {
   "cell_type": "code",
   "execution_count": 33,
   "id": "85c9c448",
   "metadata": {},
   "outputs": [
    {
     "name": "stdout",
     "output_type": "stream",
     "text": [
      "9626\n",
      "1422\n",
      "5755\n",
      "2449\n"
     ]
    }
   ],
   "source": [
    "\n",
    "from datetime import datetime\n",
    "\n",
    "\n",
    "\n",
    "dates = vp1_data['date']\n",
    "\n",
    "cleaned_dates = []\n",
    "\n",
    "nan_date_counter = 0\n",
    "cleaned_date_counter = 0\n",
    "unchanged_date_counter = 0\n",
    "\n",
    "for date in dates:\n",
    "    if date.count(\"XX\") == 3:\n",
    "        nan_date_counter += 1\n",
    "        \n",
    "    elif date.count(\"XX\") == 2:\n",
    "        newDate = date[:-6]\n",
    "        cleaned_date_counter += 1\n",
    "        date_time_obj = datetime.strptime(newDate, '%Y')\n",
    "        cleaned_dates.append(date_time_obj)\n",
    "        \n",
    "    elif date.count(\"XX\") == 1:\n",
    "        newDate = date[:-3]\n",
    "        cleaned_date_counter += 1\n",
    "        date_time_obj = datetime.strptime(newDate, '%Y-%m')\n",
    "        cleaned_dates.append(date_time_obj)\n",
    "        \n",
    "    elif date.count(\"XX\") == 0 and len(date) == 10:\n",
    "        newDate = date\n",
    "        unchanged_date_counter += 1\n",
    "        date_time_obj = datetime.strptime(newDate, '%Y-%m-%d')\n",
    "        cleaned_dates.append(date_time_obj)\n",
    "        \n",
    "    else:\n",
    "        nan_date_counter +=1\n",
    "    \n",
    "print(dates.count())\n",
    "print(nan_date_counter)\n",
    "print(cleaned_date_counter)\n",
    "print(unchanged_date_counter)\n",
    "\n",
    "cleaned_dates_df = pd.DataFrame(cleaned_dates, columns = ['date'])\n",
    "\n",
    "\n",
    "#vp1_data_regions['year'] = vp1_data_regions['']"
   ]
  },
  {
   "cell_type": "code",
   "execution_count": 45,
   "id": "1dbd4a6e",
   "metadata": {},
   "outputs": [],
   "source": [
    "vp1_data_regions['year'] = cleaned_dates_df[\"date\"].dt.year\n",
    "\n",
    "vp1_data_regions_years = vp1_data_regions"
   ]
  },
  {
   "cell_type": "code",
   "execution_count": 35,
   "id": "545dedc6",
   "metadata": {},
   "outputs": [
    {
     "name": "stdout",
     "output_type": "stream",
     "text": [
      "<class 'pandas.core.series.Series'>\n",
      "<class 'pandas.core.series.Series'>\n",
      "date\n",
      "1986      45\n",
      "1987       4\n",
      "1990      11\n",
      "1991      12\n",
      "1992       7\n",
      "1993       1\n",
      "1994       7\n",
      "1995       3\n",
      "1996       1\n",
      "1997      19\n",
      "1998     133\n",
      "1999      27\n",
      "2000     139\n",
      "2001     189\n",
      "2002      97\n",
      "2003     131\n",
      "2004      70\n",
      "2005      58\n",
      "2006     173\n",
      "2007     269\n",
      "2008     662\n",
      "2009     570\n",
      "2010    1290\n",
      "2011     761\n",
      "2012     825\n",
      "2013     619\n",
      "2014     623\n",
      "2015     355\n",
      "2016     547\n",
      "2017     401\n",
      "2018      68\n",
      "2019      34\n",
      "Name: date, dtype: int64\n"
     ]
    }
   ],
   "source": [
    "year_counts = dates_dataframe[(dates_dataframe['date'] > '1985-01-01')].groupby(dates_dataframe[\"date\"].dt.year).count()\n",
    "\n",
    "print(type(country_counts))\n",
    "print(type(year_counts.squeeze()))\n",
    "print(year_counts.squeeze())\n",
    "\n",
    "\n"
   ]
  },
  {
   "cell_type": "code",
   "execution_count": 36,
   "id": "676cc899",
   "metadata": {},
   "outputs": [
    {
     "name": "stderr",
     "output_type": "stream",
     "text": [
      "/Users/simongrimm/opt/anaconda3/lib/python3.8/site-packages/seaborn/_decorators.py:36: FutureWarning: Pass the following variables as keyword args: x, y. From version 0.12, the only valid positional argument will be `data`, and passing other arguments without an explicit keyword will result in an error or misinterpretation.\n",
      "  warnings.warn(\n"
     ]
    },
    {
     "data": {
      "text/plain": [
       "[Text(0.5, 0, 'Sampling Year'), Text(0, 0.5, 'n_sequences')]"
      ]
     },
     "execution_count": 36,
     "metadata": {},
     "output_type": "execute_result"
    },
    {
     "data": {
      "image/png": "[encoded data removed]",
      "text/plain": [
       "<Figure size 432x288 with 1 Axes>"
      ]
     },
     "metadata": {
      "needs_background": "light"
     },
     "output_type": "display_data"
    },
    {
     "data": {
      "image/png": "[encoded data removed]",
      "text/plain": [
       "<Figure size 1080x576 with 1 Axes>"
      ]
     },
     "metadata": {
      "needs_background": "light"
     },
     "output_type": "display_data"
    }
   ],
   "source": [
    "grouped = dates_dataframe.groupby(dates_dataframe[\"date\"].dt.year)\n",
    "\n",
    "dates_dataframe[(dates_dataframe['date'] > '1985-01-01')].groupby(dates_dataframe[\"date\"].dt.year).count().plot(kind=\"bar\")\n",
    "\n",
    "#\n",
    "#See here for advice on how to create a stacked histogram: https://seaborn.pydata.org/examples/histogram_stacked.html\n",
    "import seaborn as sns\n",
    "import matplotlib.pyplot as plt\n",
    "\n",
    "plt.figure(figsize = (15,8))\n",
    "plot = sns.barplot(year_counts.squeeze().index, year_counts.squeeze().values)\n",
    "plot.set_xticklabels(\n",
    "    plot.get_xticklabels(),\n",
    "    rotation = 45,\n",
    "    horizontalalignment = 'right',\n",
    "    fontweight='light',\n",
    "    fontsize='large',\n",
    "    \n",
    ")\n",
    "plot.set(xlabel='Sampling Year', ylabel='n_sequences' )\n",
    "\n",
    "\n"
   ]
  },
  {
   "cell_type": "code",
   "execution_count": null,
   "id": "bc196615",
   "metadata": {},
   "outputs": [],
   "source": []
  },
  {
   "cell_type": "code",
   "execution_count": 57,
   "id": "a665a1a1",
   "metadata": {},
   "outputs": [
    {
     "data": {
      "text/plain": [
       "(1997.0, 2021.0)"
      ]
     },
     "execution_count": 57,
     "metadata": {},
     "output_type": "execute_result"
    },
    {
     "data": {
      "image/png": "[encoded data removed]",
      "text/plain": [
       "<Figure size 1224x720 with 1 Axes>"
      ]
     },
     "metadata": {},
     "output_type": "display_data"
    }
   ],
   "source": [
    "import seaborn as sns\n",
    "import matplotlib as mpl\n",
    "import matplotlib.pyplot as plt\n",
    "\n",
    "sns.set_theme(style=\"ticks\")\n",
    "f, ax = plt.subplots(figsize=(17, 10))\n",
    "sns.despine(f)\n",
    "\n",
    "vp1_data_regions_years_from_1985 = vp1_data_regions_years[vp1_data_regions_years['year'] > 1985]\n",
    "\n",
    "plot = sns.histplot(\n",
    "    vp1_data_regions_years_from_1985,\n",
    "    x = 'years', hue='region',\n",
    "    multiple=\"stack\",\n",
    "    palette= \"deep\",\n",
    "    edgecolor=\".3\",\n",
    "    linewidth=.5,\n",
    ")\n",
    "plot.set(xlabel='Sampling Year', ylabel='n_sequences' )\n",
    "\n",
    "plot.set_xlim(1997, 2021)\n",
    "\n",
    "#further advice on this: https://seaborn.pydata.org/tutorial/distributions.html, \n",
    "# https://medium.economist.com/mistakes-weve-drawn-a-few-8cdd8a42d368\n",
    "# https://medium.economist.com/making-a-metric-4831ff4cc800\n",
    "# https://medium.economist.com/more-than-meets-the-eye-2d22c2de1fc2\n",
    "\n",
    "\n",
    "\n",
    "\n"
   ]
  },
  {
   "cell_type": "code",
   "execution_count": null,
   "id": "3729569c",
   "metadata": {},
   "outputs": [
    {
     "name": "stdout",
     "output_type": "stream",
     "text": [
      "Other    575\n",
      "dtype: int64\n"
     ]
    }
   ],
   "source": [
    "other_countries = pd.Series([country_counts.loc['Russia':'Ukraine'].sum()], index=['Other'])\n",
    "print(other_countries)\n"
   ]
  },
  {
   "cell_type": "code",
   "execution_count": null,
   "id": "c85774b7",
   "metadata": {},
   "outputs": [],
   "source": [
    "country_counts_other = country_counts.loc['China':'France'].append(other_countries)"
   ]
  },
  {
   "cell_type": "code",
   "execution_count": null,
   "id": "91bfb2f1",
   "metadata": {},
   "outputs": [
    {
     "name": "stdout",
     "output_type": "stream",
     "text": [
      "China          4784\n",
      "Viet Nam       1006\n",
      "Taiwan          887\n",
      "Na              537\n",
      "Japan           463\n",
      "Malaysia        282\n",
      "Thailand        270\n",
      "Germany         253\n",
      "Netherlands     237\n",
      "Spain           209\n",
      "France          123\n",
      "Other           575\n",
      "dtype: int64\n"
     ]
    }
   ],
   "source": [
    "print(country_counts_other)"
   ]
  },
  {
   "cell_type": "code",
   "execution_count": null,
   "id": "99bef9b5",
   "metadata": {},
   "outputs": [
    {
     "name": "stderr",
     "output_type": "stream",
     "text": [
      "/Users/simongrimm/opt/anaconda3/lib/python3.8/site-packages/seaborn/_decorators.py:36: FutureWarning: Pass the following variables as keyword args: x, y. From version 0.12, the only valid positional argument will be `data`, and passing other arguments without an explicit keyword will result in an error or misinterpretation.\n",
      "  warnings.warn(\n"
     ]
    },
    {
     "data": {
      "text/plain": [
       "[Text(0.5, 0, 'Country'), Text(0, 0.5, 'n_sequences')]"
      ]
     },
     "execution_count": 51,
     "metadata": {},
     "output_type": "execute_result"
    },
    {
     "data": {
      "image/png": "[encoded data removed]",
      "text/plain": [
       "<Figure size 1080x576 with 1 Axes>"
      ]
     },
     "metadata": {
      "needs_background": "light"
     },
     "output_type": "display_data"
    }
   ],
   "source": [
    "import seaborn as sns\n",
    "import matplotlib.pyplot as plt\n",
    "\n",
    "plt.figure(figsize = (15,8))\n",
    "plot = sns.barplot(country_counts_other.index, country_counts_other.values)\n",
    "plot.set_xticklabels(\n",
    "    plot.get_xticklabels(),\n",
    "    rotation = 45,\n",
    "    horizontalalignment = 'right',\n",
    "    fontweight='light',\n",
    "    fontsize='large',\n",
    "    \n",
    ")\n",
    "plot.set(xlabel='Country', ylabel='n_sequences' )\n"
   ]
  },
  {
   "cell_type": "markdown",
   "id": "96a7c785",
   "metadata": {},
   "source": [
    "# Potential solution:\n",
    "\n",
    "First, in the code above create a dataframe that marks 2012-01-01 as a datetime with year ONLY.\n",
    "\n",
    "Calculate delta between the earliest date and all other dates.\n",
    "\n",
    "Create histogram of this delta, but assign Dates to x axis.\n",
    "\n",
    "Create Tick at 365 apart, calling it the beginning of that year.\n",
    "\n",
    "The code below doesn't work."
   ]
  },
  {
   "cell_type": "code",
   "execution_count": null,
   "id": "3f91ac3d",
   "metadata": {},
   "outputs": [],
   "source": [
    "import pandas as pd\n",
    "\n",
    "import plotly.express as px\n",
    "\n",
    "df = pd.DataFrame()\n",
    "\n",
    "df['Date'] = pd.Series(cleaned_dates)\n",
    "\n",
    "df['year'] = df['Date'].dt.year\n",
    "\n",
    "df['mthday'] = df['Date'].dt.strftime('%d-%b')\n",
    "\n",
    "df=df.sort_values(by='Date') \n",
    "\n",
    "plot=px.line(df,x='Date',y='value',color='year')"
   ]
  },
  {
   "cell_type": "code",
   "execution_count": null,
   "id": "d2485398",
   "metadata": {},
   "outputs": [],
   "source": []
  },
  {
   "cell_type": "code",
   "execution_count": null,
   "id": "b97543fc",
   "metadata": {},
   "outputs": [],
   "source": [
    "vp1_data[\"date\"] = vp1_data[\"date\"].astype(\"datetime64\")\n"
   ]
  }
 ],
 "metadata": {
  "kernelspec": {
   "display_name": "Python 3 (ipykernel)",
   "language": "python",
   "name": "python3"
  },
  "language_info": {
   "codemirror_mode": {
    "name": "ipython",
    "version": 3
   },
   "file_extension": ".py",
   "mimetype": "text/x-python",
   "name": "python",
   "nbconvert_exporter": "python",
   "pygments_lexer": "ipython3",
   "version": "3.8.8"
  }
 },
 "nbformat": 4,
 "nbformat_minor": 5
}
