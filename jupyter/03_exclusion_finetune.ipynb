{
 "cells": [
  {
   "cell_type": "markdown",
   "id": "7f29c5f8",
   "metadata": {},
   "source": [
    "26th of January 2022\n",
    "\n",
    "Adapting exlusions used in the online build - maybe it'll look better.\n",
    "\n",
    "Original exclusions\n",
    "\n",
    "JB141010065\n",
    "20_DJI_027\n",
    "20_DOU_070\n",
    "HUN_5702_2004\n",
    "HUN_7195_2004\n",
    "HUN_5702_2004\n",
    "EV71_Jiaxing_1\n",
    "B5_855S_2012_Vietnam_AnGiang_2012_09_24\n",
    "FI14/Tk/W/94\n",
    "\n",
    "\n",
    "\n",
    "New exclusions\n",
    "\n",
    "HUN_5702_2004\t\t\t\t\t#showing unreasonably high genetic divergence\n",
    "HUN_7195_2004\t\t\t\t\t#showing unreasonably high genetic divergence\n",
    "HUN_5702_2004\t\t\t\t\t#showing unreasonably high genetic divergence\n",
    "B5_855S_2012_Vietnam_AnGiang_2012_09_24\t\t#showing unreasonably high genetic divergence\n",
    "FI14/Tk/W/94\t\t\t\t\t#showing high genetic divergence\n",
    "EV71_Jiaxing_1                  #showing unreasonably high genetic divergence\n",
    "EV71/Ningbo.CHN/001/2003 \t\t\t\t#misdated\n",
    "EV71/Ningbo.CHN/216/2003\t\t\t\t#misdated\n",
    "HeB_132/HeB/CHN/2010                    ##showing high genetic divergence"
   ]
  },
  {
   "cell_type": "code",
   "execution_count": null,
   "id": "0ac81259",
   "metadata": {},
   "outputs": [],
   "source": []
  }
 ],
 "metadata": {
  "kernelspec": {
   "display_name": "Python 3 (ipykernel)",
   "language": "python",
   "name": "python3"
  },
  "language_info": {
   "codemirror_mode": {
    "name": "ipython",
    "version": 3
   },
   "file_extension": ".py",
   "mimetype": "text/x-python",
   "name": "python",
   "nbconvert_exporter": "python",
   "pygments_lexer": "ipython3",
   "version": "3.8.8"
  }
 },
 "nbformat": 4,
 "nbformat_minor": 5
}
