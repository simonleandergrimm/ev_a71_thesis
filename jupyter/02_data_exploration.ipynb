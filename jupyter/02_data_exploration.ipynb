{
 "cells": [
  {
   "cell_type": "code",
   "execution_count": 43,
   "id": "57b3c3b9",
   "metadata": {},
   "outputs": [],
   "source": [
    "import pandas as pd\n"
   ]
  },
  {
   "cell_type": "code",
   "execution_count": 44,
   "id": "e85fcfb5",
   "metadata": {},
   "outputs": [],
   "source": [
    "\n",
    "vp1_data = pd.read_csv(\"enterovirus_a71_github/ev_a71/vp1/results/cleaned_metadata.tsv\", sep='\\t')"
   ]
  },
  {
   "cell_type": "code",
   "execution_count": 45,
   "id": "3cd8580b",
   "metadata": {},
   "outputs": [],
   "source": [
    "country_counts = vp1_data['country'].value_counts()\n",
    "\n"
   ]
  },
  {
   "cell_type": "code",
   "execution_count": 46,
   "id": "9e6cb0fa",
   "metadata": {
    "scrolled": true
   },
   "outputs": [
    {
     "data": {
      "text/html": [
       "<div>\n",
       "<style scoped>\n",
       "    .dataframe tbody tr th:only-of-type {\n",
       "        vertical-align: middle;\n",
       "    }\n",
       "\n",
       "    .dataframe tbody tr th {\n",
       "        vertical-align: top;\n",
       "    }\n",
       "\n",
       "    .dataframe thead th {\n",
       "        text-align: right;\n",
       "    }\n",
       "</style>\n",
       "<table border=\"1\" class=\"dataframe\">\n",
       "  <thead>\n",
       "    <tr style=\"text-align: right;\">\n",
       "      <th></th>\n",
       "      <th>accession</th>\n",
       "      <th>name</th>\n",
       "      <th>segment</th>\n",
       "      <th>date</th>\n",
       "      <th>host</th>\n",
       "      <th>country</th>\n",
       "      <th>abbreviation</th>\n",
       "      <th>virus</th>\n",
       "      <th>strain</th>\n",
       "    </tr>\n",
       "  </thead>\n",
       "  <tbody>\n",
       "    <tr>\n",
       "      <th>count</th>\n",
       "      <td>9626</td>\n",
       "      <td>9626</td>\n",
       "      <td>32</td>\n",
       "      <td>9626</td>\n",
       "      <td>9602</td>\n",
       "      <td>9626</td>\n",
       "      <td>3892</td>\n",
       "      <td>9602</td>\n",
       "      <td>9626</td>\n",
       "    </tr>\n",
       "    <tr>\n",
       "      <th>unique</th>\n",
       "      <td>9626</td>\n",
       "      <td>9626</td>\n",
       "      <td>25</td>\n",
       "      <td>1300</td>\n",
       "      <td>5</td>\n",
       "      <td>58</td>\n",
       "      <td>28</td>\n",
       "      <td>2</td>\n",
       "      <td>9626</td>\n",
       "    </tr>\n",
       "    <tr>\n",
       "      <th>top</th>\n",
       "      <td>GQ117124</td>\n",
       "      <td>001_Luan_CHN__08</td>\n",
       "      <td>VP1</td>\n",
       "      <td>20XX-XX-XX</td>\n",
       "      <td>Human</td>\n",
       "      <td>China</td>\n",
       "      <td>C4</td>\n",
       "      <td>Human_enterovirus_71</td>\n",
       "      <td>001_Luan_CHN__08</td>\n",
       "    </tr>\n",
       "    <tr>\n",
       "      <th>freq</th>\n",
       "      <td>1</td>\n",
       "      <td>1</td>\n",
       "      <td>8</td>\n",
       "      <td>1404</td>\n",
       "      <td>8090</td>\n",
       "      <td>4784</td>\n",
       "      <td>1146</td>\n",
       "      <td>6432</td>\n",
       "      <td>1</td>\n",
       "    </tr>\n",
       "  </tbody>\n",
       "</table>\n",
       "</div>"
      ],
      "text/plain": [
       "       accession              name segment        date   host country  \\\n",
       "count       9626              9626      32        9626   9602    9626   \n",
       "unique      9626              9626      25        1300      5      58   \n",
       "top     GQ117124  001_Luan_CHN__08     VP1  20XX-XX-XX  Human   China   \n",
       "freq           1                 1       8        1404   8090    4784   \n",
       "\n",
       "       abbreviation                 virus            strain  \n",
       "count          3892                  9602              9626  \n",
       "unique           28                     2              9626  \n",
       "top              C4  Human_enterovirus_71  001_Luan_CHN__08  \n",
       "freq           1146                  6432                 1  "
      ]
     },
     "execution_count": 46,
     "metadata": {},
     "output_type": "execute_result"
    }
   ],
   "source": [
    "vp1_data.describe()"
   ]
  },
  {
   "cell_type": "code",
   "execution_count": 47,
   "id": "0b8b4be2",
   "metadata": {},
   "outputs": [
    {
     "name": "stdout",
     "output_type": "stream",
     "text": [
      "China                       4784\n",
      "Viet Nam                    1006\n",
      "Taiwan                       887\n",
      "Na                           537\n",
      "Japan                        463\n",
      "Malaysia                     282\n",
      "Thailand                     270\n",
      "Germany                      253\n",
      "Netherlands                  237\n",
      "Spain                        209\n",
      "France                       123\n",
      "Russia                        88\n",
      "Cambodia                      77\n",
      "India                         48\n",
      "Singapore                     41\n",
      "Brunei                        37\n",
      "Finland                       32\n",
      "Australia                     25\n",
      "Hong Kong                     22\n",
      "Hungary                       16\n",
      "South Korea                   14\n",
      "United Kingdom                14\n",
      "Usa                           14\n",
      "Canada                        14\n",
      "Philippines                   14\n",
      "Denmark                       11\n",
      "Austria                       11\n",
      "Poland                        10\n",
      "Switzerland                    7\n",
      "Indonesia                      7\n",
      "Cameroon                       6\n",
      "Unknown                        6\n",
      "Greece                         6\n",
      "Tunisia                        5\n",
      "Norway                         4\n",
      "Iceland                        4\n",
      "Croatia                        4\n",
      "Peru                           4\n",
      "Madagascar                     4\n",
      "Central African Republic       3\n",
      "Senegal                        3\n",
      "Latvia                         2\n",
      "Georgia                        2\n",
      "Guinea                         2\n",
      "Mauritania                     2\n",
      "Niger                          2\n",
      "Pakistan                       2\n",
      "Italy                          2\n",
      "Algeria                        1\n",
      "Andorra                        1\n",
      "Kyrgyzstan                     1\n",
      "Laos                           1\n",
      "Kuwait                         1\n",
      "Bulgaria                       1\n",
      "Kazakhstan                     1\n",
      "Azerbaijan                     1\n",
      "Egypt                          1\n",
      "Ukraine                        1\n",
      "Name: country, dtype: int64\n"
     ]
    }
   ],
   "source": [
    "print(country_counts)"
   ]
  },
  {
   "cell_type": "code",
   "execution_count": 48,
   "id": "3729569c",
   "metadata": {},
   "outputs": [
    {
     "name": "stdout",
     "output_type": "stream",
     "text": [
      "Other    575\n",
      "dtype: int64\n"
     ]
    }
   ],
   "source": [
    "other_countries = pd.Series([country_counts.loc['Russia':'Ukraine'].sum()], index=['Other'])\n",
    "print(other_countries)\n"
   ]
  },
  {
   "cell_type": "code",
   "execution_count": 49,
   "id": "c85774b7",
   "metadata": {},
   "outputs": [],
   "source": [
    "country_counts_other = country_counts.loc['China':'France'].append(other_countries)"
   ]
  },
  {
   "cell_type": "code",
   "execution_count": 50,
   "id": "91bfb2f1",
   "metadata": {},
   "outputs": [
    {
     "name": "stdout",
     "output_type": "stream",
     "text": [
      "China          4784\n",
      "Viet Nam       1006\n",
      "Taiwan          887\n",
      "Na              537\n",
      "Japan           463\n",
      "Malaysia        282\n",
      "Thailand        270\n",
      "Germany         253\n",
      "Netherlands     237\n",
      "Spain           209\n",
      "France          123\n",
      "Other           575\n",
      "dtype: int64\n"
     ]
    }
   ],
   "source": [
    "print(country_counts_other)"
   ]
  },
  {
   "cell_type": "code",
   "execution_count": 51,
   "id": "99bef9b5",
   "metadata": {},
   "outputs": [
    {
     "name": "stderr",
     "output_type": "stream",
     "text": [
      "/Users/simongrimm/opt/anaconda3/lib/python3.8/site-packages/seaborn/_decorators.py:36: FutureWarning: Pass the following variables as keyword args: x, y. From version 0.12, the only valid positional argument will be `data`, and passing other arguments without an explicit keyword will result in an error or misinterpretation.\n",
      "  warnings.warn(\n"
     ]
    },
    {
     "data": {
      "text/plain": [
       "[Text(0.5, 0, 'Country'), Text(0, 0.5, 'n_sequences')]"
      ]
     },
     "execution_count": 51,
     "metadata": {},
     "output_type": "execute_result"
    },
    {
     "data": {
      "image/png": "[encoded data removed]",
      "text/plain": [
       "<Figure size 1080x576 with 1 Axes>"
      ]
     },
     "metadata": {
      "needs_background": "light"
     },
     "output_type": "display_data"
    }
   ],
   "source": [
    "import seaborn as sns\n",
    "import matplotlib.pyplot as plt\n",
    "\n",
    "plt.figure(figsize = (15,8))\n",
    "plot = sns.barplot(country_counts_other.index, country_counts_other.values)\n",
    "plot.set_xticklabels(\n",
    "    plot.get_xticklabels(),\n",
    "    rotation = 45,\n",
    "    horizontalalignment = 'right',\n",
    "    fontweight='light',\n",
    "    fontsize='large',\n",
    "    \n",
    ")\n",
    "plot.set(xlabel='Country', ylabel='n_sequences' )\n"
   ]
  },
  {
   "cell_type": "code",
   "execution_count": 52,
   "id": "1cc85d5d",
   "metadata": {},
   "outputs": [],
   "source": [
    "dates = vp1_data['date']\n"
   ]
  },
  {
   "cell_type": "code",
   "execution_count": 53,
   "id": "9eaf7714",
   "metadata": {
    "scrolled": false
   },
   "outputs": [
    {
     "name": "stdout",
     "output_type": "stream",
     "text": [
      "9626\n",
      "1422\n",
      "5755\n",
      "2449\n"
     ]
    }
   ],
   "source": [
    "from datetime import datetime\n",
    "\n",
    "nan_date_counter = 0\n",
    "cleaned_date_counter = 0\n",
    "unchanged_date_counter = 0\n",
    "\n",
    "cleaned_dates = []\n",
    "\n",
    "\n",
    "\n",
    "for date in dates:\n",
    "    if date.count(\"XX\") == 3:\n",
    "        nan_date_counter += 1\n",
    "        \n",
    "    elif date.count(\"XX\") == 2:\n",
    "        newDate = date[:-6]\n",
    "        cleaned_date_counter += 1\n",
    "        date_time_obj = datetime.strptime(newDate, '%Y')\n",
    "        cleaned_dates.append(date_time_obj)\n",
    "        \n",
    "    elif date.count(\"XX\") == 1:\n",
    "        newDate = date[:-3]\n",
    "        cleaned_date_counter += 1\n",
    "        date_time_obj = datetime.strptime(newDate, '%Y-%m')\n",
    "        cleaned_dates.append(date_time_obj)\n",
    "        \n",
    "    elif date.count(\"XX\") == 0 and len(date) == 10:\n",
    "        newDate = date\n",
    "        unchanged_date_counter += 1\n",
    "        date_time_obj = datetime.strptime(newDate, '%Y-%m-%d')\n",
    "        cleaned_dates.append(date_time_obj)\n",
    "        \n",
    "    else:\n",
    "        nan_date_counter +=1\n",
    "    \n",
    "print(dates.count())\n",
    "print(nan_date_counter)\n",
    "print(cleaned_date_counter)\n",
    "print(unchanged_date_counter)"
   ]
  },
  {
   "cell_type": "code",
   "execution_count": 54,
   "id": "ae51e625",
   "metadata": {},
   "outputs": [],
   "source": [
    "dates_dataframe = pd.DataFrame(cleaned_dates, columns = ['date'])"
   ]
  },
  {
   "cell_type": "code",
   "execution_count": 55,
   "id": "6072890b",
   "metadata": {
    "scrolled": true
   },
   "outputs": [
    {
     "name": "stdout",
     "output_type": "stream",
     "text": [
      "           date\n",
      "0    2008-05-01\n",
      "1    2010-01-01\n",
      "2    2009-06-18\n",
      "3    2011-01-01\n",
      "4    2013-08-21\n",
      "...         ...\n",
      "8199 2008-08-01\n",
      "8200 2008-08-01\n",
      "8201 2008-08-01\n",
      "8202 2008-08-01\n",
      "8203 2008-08-01\n",
      "\n",
      "[8204 rows x 1 columns]\n"
     ]
    }
   ],
   "source": [
    "print(dates_dataframe)"
   ]
  },
  {
   "cell_type": "code",
   "execution_count": 56,
   "id": "d8d98afc",
   "metadata": {},
   "outputs": [],
   "source": [
    "grouped = dates_dataframe.groupby(dates_dataframe[\"date\"].dt.year)"
   ]
  },
  {
   "cell_type": "code",
   "execution_count": 57,
   "id": "f2394907",
   "metadata": {},
   "outputs": [],
   "source": [
    "year_counts = dates_dataframe[(dates_dataframe['date'] > '1985-01-01')].groupby(dates_dataframe[\"date\"].dt.year).count()\n"
   ]
  },
  {
   "cell_type": "code",
   "execution_count": 64,
   "id": "40641b13",
   "metadata": {},
   "outputs": [
    {
     "name": "stdout",
     "output_type": "stream",
     "text": [
      "<class 'pandas.core.series.Series'>\n",
      "<class 'pandas.core.series.Series'>\n",
      "date\n",
      "1986      45\n",
      "1987       4\n",
      "1990      11\n",
      "1991      12\n",
      "1992       7\n",
      "1993       1\n",
      "1994       7\n",
      "1995       3\n",
      "1996       1\n",
      "1997      19\n",
      "1998     133\n",
      "1999      27\n",
      "2000     139\n",
      "2001     189\n",
      "2002      97\n",
      "2003     131\n",
      "2004      70\n",
      "2005      58\n",
      "2006     173\n",
      "2007     269\n",
      "2008     662\n",
      "2009     570\n",
      "2010    1290\n",
      "2011     761\n",
      "2012     825\n",
      "2013     619\n",
      "2014     623\n",
      "2015     355\n",
      "2016     547\n",
      "2017     401\n",
      "2018      68\n",
      "2019      34\n",
      "Name: date, dtype: int64\n"
     ]
    }
   ],
   "source": [
    "print(type(country_counts))\n",
    "print(type(year_counts.squeeze()))\n",
    "print(year_counts.squeeze())"
   ]
  },
  {
   "cell_type": "code",
   "execution_count": 59,
   "id": "2773b91b",
   "metadata": {
    "scrolled": true
   },
   "outputs": [
    {
     "data": {
      "text/plain": [
       "<AxesSubplot:xlabel='date'>"
      ]
     },
     "execution_count": 59,
     "metadata": {},
     "output_type": "execute_result"
    },
    {
     "data": {
      "image/png": "[encoded data removed]",
      "text/plain": [
       "<Figure size 432x288 with 1 Axes>"
      ]
     },
     "metadata": {
      "needs_background": "light"
     },
     "output_type": "display_data"
    }
   ],
   "source": [
    "dates_dataframe[(dates_dataframe['date'] > '1985-01-01')].groupby(dates_dataframe[\"date\"].dt.year).count().plot(kind=\"bar\")"
   ]
  },
  {
   "cell_type": "code",
   "execution_count": 66,
   "id": "199fdc9f",
   "metadata": {},
   "outputs": [
    {
     "name": "stderr",
     "output_type": "stream",
     "text": [
      "/Users/simongrimm/opt/anaconda3/lib/python3.8/site-packages/seaborn/_decorators.py:36: FutureWarning: Pass the following variables as keyword args: x, y. From version 0.12, the only valid positional argument will be `data`, and passing other arguments without an explicit keyword will result in an error or misinterpretation.\n",
      "  warnings.warn(\n"
     ]
    },
    {
     "data": {
      "text/plain": [
       "[Text(0.5, 0, 'Sampling Year'), Text(0, 0.5, 'n_sequences')]"
      ]
     },
     "execution_count": 66,
     "metadata": {},
     "output_type": "execute_result"
    },
    {
     "data": {
      "image/png": "[encoded data removed]",
      "text/plain": [
       "<Figure size 1080x576 with 1 Axes>"
      ]
     },
     "metadata": {
      "needs_background": "light"
     },
     "output_type": "display_data"
    }
   ],
   "source": [
    "import seaborn as sns\n",
    "import matplotlib.pyplot as plt\n",
    "\n",
    "plt.figure(figsize = (15,8))\n",
    "plot = sns.barplot(year_counts.squeeze().index, year_counts.squeeze().values)\n",
    "plot.set_xticklabels(\n",
    "    plot.get_xticklabels(),\n",
    "    rotation = 45,\n",
    "    horizontalalignment = 'right',\n",
    "    fontweight='light',\n",
    "    fontsize='large',\n",
    "    \n",
    ")\n",
    "plot.set(xlabel='Sampling Year', ylabel='n_sequences' )\n"
   ]
  },
  {
   "cell_type": "code",
   "execution_count": null,
   "id": "c8bc6ffb",
   "metadata": {},
   "outputs": [],
   "source": []
  },
  {
   "cell_type": "markdown",
   "id": "96a7c785",
   "metadata": {},
   "source": [
    "# Potential solution:\n",
    "\n",
    "First, in the code above create a dataframe that marks 2012-01-01 as a datetime with year ONLY.\n",
    "\n",
    "Calculate delta between the earliest date and all other dates.\n",
    "\n",
    "Create histogram of this delta, but assign Dates to x axis.\n",
    "\n",
    "Create Tick at 365 apart, calling it the beginning of that year.\n",
    "\n",
    "The code below doesn't work."
   ]
  },
  {
   "cell_type": "code",
   "execution_count": null,
   "id": "3f91ac3d",
   "metadata": {},
   "outputs": [],
   "source": [
    "import pandas as pd\n",
    "\n",
    "import plotly.express as px\n",
    "\n",
    "df = pd.DataFrame()\n",
    "\n",
    "df['Date'] = pd.Series(cleaned_dates)\n",
    "\n",
    "df['year'] = df['Date'].dt.year\n",
    "\n",
    "df['mthday'] = df['Date'].dt.strftime('%d-%b')\n",
    "\n",
    "df=df.sort_values(by='Date') \n",
    "\n",
    "plot=px.line(df,x='Date',y='value',color='year')"
   ]
  },
  {
   "cell_type": "code",
   "execution_count": null,
   "id": "d2485398",
   "metadata": {},
   "outputs": [],
   "source": []
  },
  {
   "cell_type": "code",
   "execution_count": null,
   "id": "b97543fc",
   "metadata": {},
   "outputs": [],
   "source": [
    "vp1_data[\"date\"] = vp1_data[\"date\"].astype(\"datetime64\")\n"
   ]
  }
 ],
 "metadata": {
  "kernelspec": {
   "display_name": "Python 3 (ipykernel)",
   "language": "python",
   "name": "python3"
  },
  "language_info": {
   "codemirror_mode": {
    "name": "ipython",
    "version": 3
   },
   "file_extension": ".py",
   "mimetype": "text/x-python",
   "name": "python",
   "nbconvert_exporter": "python",
   "pygments_lexer": "ipython3",
   "version": "3.8.8"
  }
 },
 "nbformat": 4,
 "nbformat_minor": 5
}
